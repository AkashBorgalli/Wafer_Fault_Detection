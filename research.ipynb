{
 "cells": [
  {
   "cell_type": "code",
   "execution_count": 1,
   "metadata": {},
   "outputs": [],
   "source": [
    "from azureml.core import Experiment, ScriptRunConfig, Environment\n",
    "from azureml.core import Workspace\n",
    "from azureml.widgets import RunDetails\n",
    "from azureml.core.runconfig import DockerConfiguration\n",
    "from trainingModel import trainModel\n",
    "# Create a script config\n"
   ]
  },
  {
   "cell_type": "code",
   "execution_count": 25,
   "metadata": {},
   "outputs": [],
   "source": [
    "myenv = Environment.from_conda_specification(name = \"wafer-env\",\n",
    "                                             file_path = \"environment.yml\")"
   ]
  },
  {
   "cell_type": "code",
   "execution_count": 26,
   "metadata": {},
   "outputs": [
    {
     "data": {
      "text/plain": [
       "{\n",
       "    \"databricks\": {\n",
       "        \"eggLibraries\": [],\n",
       "        \"jarLibraries\": [],\n",
       "        \"mavenLibraries\": [],\n",
       "        \"pypiLibraries\": [],\n",
       "        \"rcranLibraries\": []\n",
       "    },\n",
       "    \"docker\": {\n",
       "        \"arguments\": [],\n",
       "        \"baseDockerfile\": null,\n",
       "        \"baseImage\": \"mcr.microsoft.com/azureml/openmpi3.1.2-ubuntu18.04:20220412.v1\",\n",
       "        \"baseImageRegistry\": {\n",
       "            \"address\": null,\n",
       "            \"password\": null,\n",
       "            \"registryIdentity\": null,\n",
       "            \"username\": null\n",
       "        },\n",
       "        \"enabled\": false,\n",
       "        \"platform\": {\n",
       "            \"architecture\": \"amd64\",\n",
       "            \"os\": \"Linux\"\n",
       "        },\n",
       "        \"sharedVolumes\": true,\n",
       "        \"shmSize\": \"2g\"\n",
       "    },\n",
       "    \"environmentVariables\": {\n",
       "        \"EXAMPLE_ENV_VAR\": \"EXAMPLE_VALUE\"\n",
       "    },\n",
       "    \"inferencingStackVersion\": null,\n",
       "    \"name\": \"wafer-env\",\n",
       "    \"python\": {\n",
       "        \"baseCondaEnvironment\": null,\n",
       "        \"condaDependencies\": {\n",
       "            \"dependencies\": [\n",
       "                \"python=3.6.2\",\n",
       "                \"scikit-learn\",\n",
       "                \"pandas\",\n",
       "                \"pip\",\n",
       "                {\n",
       "                    \"pip\": [\n",
       "                        \"azureml-defaults\",\n",
       "                        \"azureml-mlflow\",\n",
       "                        \"azureml-core\",\n",
       "                        \"azureml-sdk\",\n",
       "                        \"azureml-widgets\",\n",
       "                        \"attrs==19.3.0\",\n",
       "                        \"certifi==2019.11.28\",\n",
       "                        \"Click==7.0\",\n",
       "                        \"cycler==0.10.0\",\n",
       "                        \"Flask==1.1.1\",\n",
       "                        \"Flask-Cors==3.0.8\",\n",
       "                        \"importlib-metadata==1.4.0\",\n",
       "                        \"Flask-MonitoringDashboard==3.0.6\",\n",
       "                        \"itsdangerous==1.1.0\",\n",
       "                        \"Jinja2==2.11.0\",\n",
       "                        \"joblib==0.14.1\",\n",
       "                        \"jsonschema==3.2.0\",\n",
       "                        \"kiwisolver==1.1.0\",\n",
       "                        \"kneed==0.5.1\",\n",
       "                        \"MarkupSafe==1.1.1\",\n",
       "                        \"matplotlib==3.1.2\",\n",
       "                        \"more-itertools==8.1.0\",\n",
       "                        \"numpy==1.18.1\",\n",
       "                        \"pandas==0.25.3\",\n",
       "                        \"pyparsing==2.4.6\",\n",
       "                        \"pyrsistent==0.15.7\",\n",
       "                        \"python-dateutil==2.8.1\",\n",
       "                        \"pytz==2019.3\",\n",
       "                        \"PyYAML==5.3\",\n",
       "                        \"regexp==0.1\",\n",
       "                        \"scikit-learn==0.22.1\",\n",
       "                        \"six==1.14.0\",\n",
       "                        \"sklearn==0.0\",\n",
       "                        \"Werkzeug==0.16.1\",\n",
       "                        \"wincertstore==0.2\",\n",
       "                        \"xgboost==0.90\",\n",
       "                        \"zipp==2.0.1\",\n",
       "                        \"pytest==6.2.2\",\n",
       "                        \"-e .\"\n",
       "                    ]\n",
       "                }\n",
       "            ],\n",
       "            \"name\": \"wafer_project\"\n",
       "        },\n",
       "        \"condaDependenciesFile\": null,\n",
       "        \"interpreterPath\": \"python\",\n",
       "        \"userManagedDependencies\": false\n",
       "    },\n",
       "    \"r\": null,\n",
       "    \"spark\": {\n",
       "        \"packages\": [],\n",
       "        \"precachePackages\": true,\n",
       "        \"repositories\": []\n",
       "    },\n",
       "    \"version\": null\n",
       "}"
      ]
     },
     "execution_count": 26,
     "metadata": {},
     "output_type": "execute_result"
    }
   ],
   "source": [
    "myenv"
   ]
  },
  {
   "cell_type": "code",
   "execution_count": null,
   "metadata": {},
   "outputs": [],
   "source": []
  }
 ],
 "metadata": {
  "interpreter": {
   "hash": "66a68742c019dd3604dd23488c4a41ce57b09edee1b154a92ae3303726fb8eec"
  },
  "kernelspec": {
   "display_name": "Python 3.8.13 (conda)",
   "language": "python",
   "name": "python3"
  },
  "language_info": {
   "codemirror_mode": {
    "name": "ipython",
    "version": 3
   },
   "file_extension": ".py",
   "mimetype": "text/x-python",
   "name": "python",
   "nbconvert_exporter": "python",
   "pygments_lexer": "ipython3",
   "version": "3.8.13"
  },
  "orig_nbformat": 4
 },
 "nbformat": 4,
 "nbformat_minor": 2
}
